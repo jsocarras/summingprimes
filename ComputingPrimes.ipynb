{
 "cells": [
  {
   "cell_type": "markdown",
   "metadata": {},
   "source": [
    "# Calculating the Sum of Prime Values below Two Million"
   ]
  },
  {
   "cell_type": "markdown",
   "metadata": {},
   "source": [
    "## The sum of all prime values from 0 to 2,000,000 is 142,913,828,922.\n",
    "\n",
    "### The \"Seive of Eratosthenes\" approach was selected to find prime values. This approach is implemented below as follows:\n",
    "- The indeces of prime values from 0 to n are represented by a 'True' boolean value. \n",
    "- A boolean list of length n is initialized as all 'True'.\n",
    "- The first two values, 0 and 1, are manually intialized as 'False'.\n",
    "- Flip the values in the boolean list associated with non-prime numbers to 'False':\n",
    "   - A number is not prime if it is a multiple of a prime number. This knowledge is used to efficiently find non-prime numbers.  \n",
    "   - Iterating from 2 to the sqrt(n), flip the boolean list's values to 'False' for each element that is a mulitple of a prime value. \n",
    "       - Note: the iteration concludes at sqrt(n), not n. This is because the largest possible component of non-prime values below n is sqrt(n), so it's a certainty that by now the only 'True' boolean values remaining in the boolean list will belong to the indeces of true prime values. \n",
    "       \n",
    "### Once the \"Seive of Eratosthenes\" method is used to find all prime numbers below two million, the boolean list is efficiently converted to a list of prime values. Finally, this list is summed."
   ]
  },
  {
   "cell_type": "code",
   "execution_count": 83,
   "metadata": {},
   "outputs": [],
   "source": [
    "# sum all prime values below n. Specify n as 2,000,000. \n",
    "n = 2000000\n",
    "\n",
    "# initialize boolean list\n",
    "is_index_for_a_prime_value = [True]*n\n",
    "\n",
    "# manually set the indices for 0 and 1 in the boolean list to 'False'\n",
    "is_index_for_a_prime_value[0] = False\n",
    "is_index_for_a_prime_value[1] = False\n",
    "\n",
    "# Set all indices corresponding to multiples of prime values in the boolean list to 'False'. Iterate from 2 to sqrt(n)\n",
    "for i in range(2, int(math.sqrt(n))):\n",
    "    # prime values are represented as 'True' in the boolean list\n",
    "    if is_index_for_a_prime_value[i]:\n",
    "        # iterate from the square of the prime value to n, in steps of the prime value's size. In other words, if the prime value is 2, iterate from 4 to 2,000,000 in steps of 2. These values are all multiples of a prime number and are therefore non-prime. Mark all these values as 'False'.\n",
    "        for j in range(i*i, n, i):\n",
    "            is_index_for_a_prime_value[j] = False"
   ]
  },
  {
   "cell_type": "markdown",
   "metadata": {},
   "source": [
    "##### Check if the first few prime values were indexed correctly"
   ]
  },
  {
   "cell_type": "code",
   "execution_count": 84,
   "metadata": {},
   "outputs": [
    {
     "data": {
      "text/plain": [
       "[False, False, True, True, False, True, False, True, False, False, False, True]"
      ]
     },
     "execution_count": 84,
     "metadata": {},
     "output_type": "execute_result"
    }
   ],
   "source": [
    "is_index_for_a_prime_value[0:12]"
   ]
  },
  {
   "cell_type": "markdown",
   "metadata": {},
   "source": [
    "##### This list correctly indicates prime values at the indeces for 2, 3, 5, 7, and 11. "
   ]
  },
  {
   "cell_type": "markdown",
   "metadata": {},
   "source": [
    "### Convert the boolean list to a list of prime values"
   ]
  },
  {
   "cell_type": "code",
   "execution_count": 85,
   "metadata": {},
   "outputs": [
    {
     "name": "stdout",
     "output_type": "stream",
     "text": [
      "68.3 ms ± 2.22 ms per loop (mean ± std. dev. of 7 runs, 10 loops each)\n"
     ]
    }
   ],
   "source": [
    "# Check how much time it takes to convert the boolean list to a list of prime values\n",
    "%timeit [i for i, x in enumerate(is_index_for_a_prime_value) if x]"
   ]
  },
  {
   "cell_type": "code",
   "execution_count": 86,
   "metadata": {},
   "outputs": [
    {
     "name": "stdout",
     "output_type": "stream",
     "text": [
      "40.6 ms ± 3.27 ms per loop (mean ± std. dev. of 7 runs, 10 loops each)\n"
     ]
    }
   ],
   "source": [
    "from itertools import compress\n",
    "%timeit list(compress(range(len(is_index_for_a_prime_value)),is_index_for_a_prime_value))"
   ]
  },
  {
   "cell_type": "markdown",
   "metadata": {},
   "source": [
    "#### The second method for converting the boolean list to the list of prime values is faster, so that is the method selected"
   ]
  },
  {
   "cell_type": "code",
   "execution_count": 88,
   "metadata": {},
   "outputs": [
    {
     "name": "stdout",
     "output_type": "stream",
     "text": [
      "The sum of all prime values from 0 to 2000000 is 142,913,828,922.\n"
     ]
    }
   ],
   "source": [
    "# Sum the list and print the output in a format that is friendly to read\n",
    "print(\"The sum of all prime values from 0 to {} is {}.\".format(n,f\"{sum(list(compress(range(len(is_index_for_a_prime_value)),is_index_for_a_prime_value))):,}\")) "
   ]
  },
  {
   "cell_type": "markdown",
   "metadata": {},
   "source": [
    "### Further Consideration\n",
    "\n",
    "#### Preliminary reading suggests that although the Sieve of Atkin method is a more efficient method of finding prime values, the Sieve of Atkin is likely more complicated to implement & maintain. If there desire is to implement a more efficient approach of summing prime values than the approach used above, then using the Sieve of Atkin approach for finding primes would be the more appropiate approach so long as there is sufficient time allocated to implement and maintain the code."
   ]
  },
  {
   "cell_type": "code",
   "execution_count": null,
   "metadata": {},
   "outputs": [],
   "source": []
  }
 ],
 "metadata": {
  "kernelspec": {
   "display_name": "Python 3",
   "language": "python",
   "name": "python3"
  },
  "language_info": {
   "codemirror_mode": {
    "name": "ipython",
    "version": 3
   },
   "file_extension": ".py",
   "mimetype": "text/x-python",
   "name": "python",
   "nbconvert_exporter": "python",
   "pygments_lexer": "ipython3",
   "version": "3.7.3"
  }
 },
 "nbformat": 4,
 "nbformat_minor": 4
}
